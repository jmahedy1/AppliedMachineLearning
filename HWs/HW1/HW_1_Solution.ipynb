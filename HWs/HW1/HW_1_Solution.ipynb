{
  "nbformat": 4,
  "nbformat_minor": 0,
  "metadata": {
    "colab": {
      "provenance": []
    },
    "kernelspec": {
      "name": "python3",
      "display_name": "Python 3"
    },
    "accelerator": "GPU"
  },
  "cells": [
    {
      "cell_type": "markdown",
      "metadata": {
        "id": "V5tMQXjYYa0j"
      },
      "source": [
        "# **Homework 1**\n",
        "\n",
        "Due by **Feburary 10, 2023**\n"
      ]
    },
    {
      "cell_type": "markdown",
      "source": [
        "**Question 1**: Please design a linear regression algorithm to obtain the optimal value of $w_0$ and $w_1$ for the given data in Data_HW1_1.csv by assuming the outputs and the data samples provided in the following satisfy $y=w_0+w_1\\times x +\\varepsilon$, where $\\varepsilon$ is measurement noise. \n",
        "\n",
        "*   Please provide the code, optimal values of $w_0$, $w_1$, training error, and testing error."
      ],
      "metadata": {
        "id": "XeTlSZ0YVZPQ"
      }
    },
    {
      "cell_type": "code",
      "source": [
        "# Example Code\n",
        "# ground truth: -6, 2\n",
        "import tensorflow as tf\n",
        "import numpy as np\n",
        "import pandas as pd\n",
        "import matplotlib\n",
        "import matplotlib.pyplot as plt\n",
        "from tensorflow.keras import layers, models, optimizers\n",
        "from sklearn.metrics import mean_squared_error\n",
        "from sklearn.model_selection import train_test_split \n",
        "\n",
        "# Obtain your data samples\n",
        "data=pd.read_csv('sample_data/Data_HW1_1.csv') # you may need to change the path\n",
        "x_data = data['x'].values\n",
        "y_data = data['y'].values\n",
        "\n",
        "# Generate training data (70% of the given data samples) and the testing data (30% of the given data samples). You can change to other percentage value as long as test_size <=0.3.\n",
        "x_train, x_test, y_train, y_test = train_test_split(x_data, y_data, test_size=0.3) \n",
        "model = models.Sequential()\n",
        "model.add(layers.Normalization(input_shape=[1,], axis=None))\n",
        "model.add(layers.Dense(1))\n",
        "model.summary()\n",
        "# Build learning model by using gradient-descent method\n",
        "adam = optimizers.Adam(learning_rate=0.2)\n",
        "model.compile(optimizer='adam',\n",
        "              loss='mean_absolute_error',\n",
        "              metrics=['mean_absolute_error'])\n",
        "\n",
        "history = model.fit(x_train, y_train, epochs=1200, \n",
        "                    validation_data=(x_test, y_test))\n",
        "# Visualize performance evaluation\n",
        "plt.plot(history.history['mean_absolute_error'], label='Training_Error')\n",
        "plt.plot(history.history['val_mean_absolute_error'], label = 'Testing_Error')\n",
        "plt.xlabel('Epoch')\n",
        "plt.ylabel('Error')\n",
        "plt.xlim([0, 1200])\n",
        "plt.ylim([0, 8])\n",
        "plt.legend(loc='lower right')\n",
        "\n",
        "test_loss, test_acc = model.evaluate(x_test,  y_test, verbose=2)\n",
        "print(test_acc)\n",
        "W = model.layers[1].get_weights()\n",
        "print(W)"
      ],
      "metadata": {
        "id": "vN6OySYKbA9i"
      },
      "execution_count": null,
      "outputs": []
    },
    {
      "cell_type": "markdown",
      "metadata": {
        "id": "L09pm0p7Plf3"
      },
      "source": [
        "**Question 2**: Please design a linear regression algorithm to obtain the optimal value of $w_0$, $w_1$, $w_2$, and $w_3$ for the given data in Data_HW1_2.csv by assuming the outputs and the data samples provided in the following satisfy $y=w_0+w_1\\times x +w_2\\times x^2+w_3\\times x^3+\\varepsilon$, where $\\varepsilon$ is measurement noise. \n",
        "\n",
        "*   Please provide the code, optimal values of $w_0$, $w_1$, $w_2$, $w_3$, training error, and testing error."
      ]
    },
    {
      "cell_type": "code",
      "source": [
        "# Example Code\n",
        "# Ground truth: -3, 2, 5, 8\n",
        "import tensorflow as tf\n",
        "import numpy as np\n",
        "import pandas as pd\n",
        "import matplotlib\n",
        "import matplotlib.pyplot as plt\n",
        "from tensorflow.keras import layers, models, optimizers\n",
        "from sklearn.metrics import mean_squared_error\n",
        "from sklearn.model_selection import train_test_split \n",
        "\n",
        "# Obtain your data samples\n",
        "data=pd.read_csv('sample_data/Data_HW1_2.csv') # you may need to change the path\n",
        "x_1 = data['x'].values\n",
        "x_2 = np.power(x_1,2)\n",
        "x_3 = np.power(x_1,3)\n",
        "x_data = np.stack((x_1, x_2, x_3), axis=1)\n",
        "y_data = data['y'].values\n",
        "\n",
        "# Generate training data (70% of the given data samples) and the testing data (30% of the given data samples). You can change to other percentage value as long as test_size <=0.3.\n",
        "x_train, x_test, y_train, y_test = train_test_split(x_data, y_data, test_size=0.3) \n",
        "\n",
        "# Gradient-descent solution\n",
        "model = models.Sequential()\n",
        "model.add(layers.Normalization(input_shape=[3,], axis=None))\n",
        "model.add(layers.Dense(1))\n",
        "model.summary()\n",
        "\n",
        "# Build learning model by using gradient-descent method\n",
        "adam = optimizers.Adam(learning_rate=0.5)\n",
        "model.compile(optimizer='adam',\n",
        "              loss='mean_absolute_error',\n",
        "              metrics=['mean_absolute_error'])\n",
        "\n",
        "history = model.fit(x_train, y_train, epochs=4000, \n",
        "                    validation_data=(x_test, y_test))\n",
        "\n",
        "# Visualize performance evaluation\n",
        "plt.plot(history.history['mean_absolute_error'], label='Training_Error')\n",
        "plt.plot(history.history['val_mean_absolute_error'], label = 'Testing_Error')\n",
        "plt.xlabel('Epoch')\n",
        "plt.ylabel('Error')\n",
        "plt.xlim([0, 4000])\n",
        "plt.ylim([0, 8])\n",
        "plt.legend(loc='lower right')\n",
        "test_loss, test_acc = model.evaluate(x_test,  y_test, verbose=2)\n",
        "print(test_acc)\n",
        "\n",
        "W0 = model.layers[1].get_weights()\n",
        "print(W0)"
      ],
      "metadata": {
        "id": "mTHwg-PIcmUV"
      },
      "execution_count": null,
      "outputs": []
    }
  ]
}