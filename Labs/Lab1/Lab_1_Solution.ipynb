{
  "cells": [
    {
      "cell_type": "markdown",
      "metadata": {
        "id": "5kJy2ESvii8T"
      },
      "source": [
        "# **Example Solutions for Lab 1**"
      ]
    },
    {
      "cell_type": "markdown",
      "metadata": {
        "id": "NhgxwsNZe2be"
      },
      "source": [
        "##**Problem 1**\n",
        "In this problem, we will explore the basic linear regression: $y_n=w_0 +w_1x_n$, where $n=1,\\dots, N$ is the index of the data sample. Your task is to determine the appropriate values of $w_0$ and $w_1$ for the given data samples in Data_1.csv.\n",
        "\n",
        "Requirments: \n",
        "*   You are required to use gradient descent algorithm to complete this problem.\n",
        "*   You need to include the following four components in your lab report: (1) the codes, (2) the obtained appropriate value of $w_0$ and $w_1$, (3) the obtained training error, and (4) the obtained testing error. "
      ]
    },
    {
      "cell_type": "code",
      "execution_count": null,
      "metadata": {
        "id": "2JVTIzuBiWW7"
      },
      "outputs": [],
      "source": [
        "# Some useful Python libaries (feel free to import other libaries)\n",
        "import tensorflow as tf\n",
        "import pandas as pd\n",
        "import numpy as np\n",
        "import matplotlib\n",
        "import matplotlib.pyplot as plt\n",
        "from tensorflow.keras import layers, models, optimizers\n",
        "from sklearn.metrics import mean_squared_error\n",
        "from sklearn.model_selection import train_test_split \n",
        "\n",
        "# Obtain your data samples\n",
        "data=pd.read_csv('sample_data/Lab1_1.csv') # you may need to change the path\n",
        "x_data = data['x'].values\n",
        "y_data = data['y'].values\n",
        "\n",
        "# Generate training data (70% of the given data samples) and the testing data (30% of the given data samples). You can change to other percentage value as long as test_size <=0.3.\n",
        "x_train, x_test, y_train, y_test = train_test_split(x_data, y_data, test_size=0.3) "
      ]
    },
    {
      "cell_type": "code",
      "execution_count": null,
      "metadata": {
        "id": "npxS5Q_YjFVl"
      },
      "outputs": [],
      "source": [
        "# Example Code\n",
        "# Gradient-descent solution\n",
        "# ground truth: -3, 5\n",
        "model = models.Sequential()\n",
        "model.add(layers.Normalization(input_shape=(1,), axis=None))\n",
        "model.add(layers.Dense(1))\n",
        "model.summary()\n",
        "# Build learning model by using gradient-descent method\n",
        "adam = optimizers.Adam(learning_rate=0.2)\n",
        "model.compile(optimizer='adam',\n",
        "              loss='mean_absolute_error',\n",
        "              metrics=['mean_absolute_error'])\n",
        "\n",
        "history = model.fit(x_train, y_train, epochs=1200, \n",
        "                    validation_data=(x_test, y_test))\n",
        "# Visualize performance evaluation\n",
        "plt.plot(history.history['mean_absolute_error'], label='training_error')\n",
        "plt.plot(history.history['val_mean_absolute_error'], label = 'testing_error')\n",
        "plt.xlabel('Epoch')\n",
        "plt.ylabel('Error')\n",
        "plt.xlim([0, 1200])\n",
        "plt.ylim([0, 8])\n",
        "plt.legend(loc='lower right')\n",
        "\n",
        "test_loss, test_acc = model.evaluate(x_test,  y_test, verbose=2)\n",
        "print(test_acc)\n",
        "W = model.layers[1].get_weights()\n",
        "print(W)"
      ]
    },
    {
      "cell_type": "markdown",
      "metadata": {
        "id": "Gbg4e_BqlSbd"
      },
      "source": [
        "##**Problem 2**\n",
        "In this problem, we will explore an extended linear regression: $y_n=w_0 +w_1x_n+w_2x_n^2$, where $n=1,\\dots, N$ is the index of the data sample. Your task is to determine the appropriate values of $w_0$, $w_1$, and $w_2$ for the given data samples in Lab1_2.csv.\n",
        "\n",
        "Requirments: \n",
        "*   You are required to use gradient descent algorithm to complete this problem. \n",
        "*   You need to include the following four components in your lab report: (1) the codes, (2) the obtained appropriate value of $w_0$, $w_1$, and $w_2$, (3) the obtained training error, and (4) the obtained testing error. "
      ]
    },
    {
      "cell_type": "code",
      "execution_count": null,
      "metadata": {
        "id": "IiNHx3vfCosG"
      },
      "outputs": [],
      "source": [
        "# Example Code\n",
        "# Ground truth: 2, 5, -3\n",
        "import tensorflow as tf\n",
        "import pandas as pd\n",
        "import numpy as np\n",
        "import matplotlib\n",
        "import matplotlib.pyplot as plt\n",
        "from tensorflow.keras import layers, models, optimizers\n",
        "from sklearn.metrics import mean_squared_error\n",
        "from sklearn.model_selection import train_test_split \n",
        "\n",
        "# Obtain your data samples\n",
        "data=pd.read_csv('sample_data/Lab1_2.csv') # you may need to change the path\n",
        "x_1 = data['x'].values\n",
        "x_2 = np.power(x_1,2)\n",
        "x_data = np.stack((x_1, x_2), axis=1)\n",
        "y_data = data['y'].values\n",
        "\n",
        "# Generate training data (70% of the given data samples) and the testing data (30% of the given data samples). You can change to other percentage value as long as test_size <=0.3.\n",
        "x_train, x_test, y_train, y_test = train_test_split(x_data, y_data, test_size=0.3) \n",
        "\n",
        "# Gradient-descent solution\n",
        "model = models.Sequential()\n",
        "model.add(layers.Normalization(input_shape=(2,), axis=None))\n",
        "model.add(layers.Dense(1))\n",
        "model.summary()\n",
        "\n",
        "# Build learning model by using gradient-descent method\n",
        "adam = optimizers.Adam(learning_rate=0.5)\n",
        "model.compile(optimizer='adam',\n",
        "              loss='mean_absolute_error',\n",
        "              metrics=['mean_absolute_error'])\n",
        "\n",
        "history = model.fit(x_train, y_train, epochs=2000, \n",
        "                    validation_data=(x_test, y_test))\n",
        "\n",
        "# Visualize performance evaluation\n",
        "plt.plot(history.history['mean_absolute_error'], label='training_error')\n",
        "plt.plot(history.history['val_mean_absolute_error'], label = 'testing_error')\n",
        "plt.xlabel('Epoch')\n",
        "plt.ylabel('Error')\n",
        "plt.xlim([0, 2000])\n",
        "plt.ylim([0, 8])\n",
        "plt.legend(loc='lower right')\n",
        "test_loss, test_acc = model.evaluate(x_test,  y_test, verbose=2)\n",
        "print(test_acc)\n",
        "\n",
        "W0 = model.layers[1].get_weights()\n",
        "print(W0)"
      ]
    },
    {
      "cell_type": "markdown",
      "metadata": {
        "id": "SZo-9XHUVB3Y"
      },
      "source": [
        "##**Problem 3**\n",
        "In this problem, we will explore to use extended linear regression: $y_n=w_0 +\\sum_{k=1}^Kw_kx_{n,k}$ to solve a real-world problem on stock forecasting. Your task is predict the Close value based on the Open, High, and Low values given in Lab1_3.csv.  \n",
        "Requirments: \n",
        "*   You are required to use gradient descent algorithm to complete this problem. \n",
        "*   You need to include the following four components in your lab report: (1) the codes, (2) the obtained appropriate value of $w_0$, $w_1$, ..., $w_K$ , (3) the obtained training error, and (4) the obtained testing error. "
      ]
    },
    {
      "cell_type": "code",
      "execution_count": null,
      "metadata": {
        "id": "MnTLTgHhreuS"
      },
      "outputs": [],
      "source": [
        "# Some useful hint. Please feel free to program without the hint\n",
        "import tensorflow as tf\n",
        "import pandas as pd\n",
        "import numpy as np\n",
        "import matplotlib\n",
        "import matplotlib.pyplot as plt\n",
        "from tensorflow.keras import layers, models, optimizers\n",
        "from sklearn.metrics import mean_squared_error\n",
        "from sklearn.model_selection import train_test_split \n",
        "# Import Data\n",
        "data=pd.read_csv('sample_data/Lab1_3.csv')\n",
        "x_data = data[['Open','High','Low']]\n",
        "y_data = data['Close']\n",
        "# Generate training data (70% of the given data samples) and the testing data (30% of the given data samples). You can change to other percentage value as long as test_size <=0.3.\n",
        "x_train, x_test, y_train, y_test = train_test_split(x_data, y_data, test_size=0.3) "
      ]
    },
    {
      "cell_type": "code",
      "execution_count": null,
      "metadata": {
        "id": "AXTqItRXlVVp"
      },
      "outputs": [],
      "source": [
        "# Example Code\n",
        "# Gradient-descent solution\n",
        "model = models.Sequential()\n",
        "model.add(layers.Normalization(input_shape=(3,), axis=None))\n",
        "model.add(layers.Dense(1))\n",
        "model.summary()\n",
        "\n",
        "# Build learning model by using gradient-descent method\n",
        "adam = optimizers.Adam(learning_rate=0.3)\n",
        "model.compile(optimizer='adam',\n",
        "              loss='mean_absolute_error',\n",
        "              metrics=['mean_absolute_error'])\n",
        "\n",
        "history = model.fit(x_train, y_train, epochs=3000, \n",
        "                    validation_data=(x_test, y_test))\n",
        "\n",
        "# Visualize performance evaluation\n",
        "plt.plot(history.history['mean_absolute_error'], label='training_error')\n",
        "plt.plot(history.history['val_mean_absolute_error'], label = 'testing_error')\n",
        "plt.xlabel('Epoch')\n",
        "plt.ylabel('Error')\n",
        "plt.xlim([0, 3000])\n",
        "plt.ylim([0, 20])\n",
        "plt.legend(loc='lower right')\n",
        "test_loss, test_acc = model.evaluate(x_test,  y_test, verbose=2)\n",
        "print(test_acc)\n",
        "W0 = model.layers[1].get_weights()\n",
        "print(W0)"
      ]
    }
  ],
  "metadata": {
    "accelerator": "GPU",
    "colab": {
      "provenance": []
    },
    "kernelspec": {
      "display_name": "Python 3 (ipykernel)",
      "language": "python",
      "name": "python3"
    },
    "language_info": {
      "codemirror_mode": {
        "name": "ipython",
        "version": 3
      },
      "file_extension": ".py",
      "mimetype": "text/x-python",
      "name": "python",
      "nbconvert_exporter": "python",
      "pygments_lexer": "ipython3",
      "version": "3.9.12"
    }
  },
  "nbformat": 4,
  "nbformat_minor": 0
}